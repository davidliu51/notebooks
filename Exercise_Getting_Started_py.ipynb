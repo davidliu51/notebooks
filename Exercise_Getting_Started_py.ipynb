{
  "nbformat": 4,
  "nbformat_minor": 0,
  "metadata": {
    "colab": {
      "name": "Exercise-Getting-Started-py.ipynb",
      "version": "0.3.2",
      "provenance": [],
      "collapsed_sections": []
    },
    "kernelspec": {
      "display_name": "Python 3",
      "language": "python",
      "name": "python3"
    }
  },
  "cells": [
    {
      "cell_type": "markdown",
      "metadata": {
        "id": "view-in-github",
        "colab_type": "text"
      },
      "source": [
        "[View in Colaboratory](https://colab.research.google.com/github/davidliu51/notebooks/blob/master/Exercise_Getting_Started_py.ipynb)"
      ]
    },
    {
      "metadata": {
        "id": "4lZJNEoj2lvO",
        "colab_type": "text"
      },
      "cell_type": "markdown",
      "source": [
        "<a href=\"https://cognitiveclass.ai\"><img src = \"https://ibm.box.com/shared/static/9gegpsmnsoo25ikkbl4qzlvlyjbgxs5x.png\" width = 400> </a>"
      ]
    },
    {
      "metadata": {
        "id": "IybuITEH2lvQ",
        "colab_type": "text"
      },
      "cell_type": "markdown",
      "source": [
        "<h1 align = \"center\"> Spark Fundamentals I - Introduction to Spark</h1>\n",
        "<h2 align = \"center\"> Getting Started</h2>\n",
        "<br align = \"left\">\n",
        "\n",
        "**Related free online courses:**\n",
        "\n",
        "Related courses can be found in the following learning paths:\n",
        "\n",
        "- [Spark Fundamentals path](http://cocl.us/Spark_Fundamentals_Path)\n",
        "- [Big Data Fundamentals path](http://cocl.us/Big_Data_Fundamentals_Path) \n",
        "\n",
        "<img src = \"http://spark.apache.org/images/spark-logo.png\", height = 100, align = 'left'>"
      ]
    },
    {
      "metadata": {
        "id": "jVcHbeEW2lvR",
        "colab_type": "text"
      },
      "cell_type": "markdown",
      "source": [
        " ## Spark is built around speed and the ease of use. In these labs you will see for yourself how easy it is to get started using Spark. \n",
        "\n",
        "Spark’s primary abstraction is a distributed collection of items called a Resilient Distributed Dataset or RDD. In a subsequent lab exercise, you will learn more about the details of RDD. RDDs have actions, which return values, and transformations, which return pointers to new RDD.\n",
        "\n",
        "This set of labs uses Cognitive Class Labs (formerly known as BDU Labs) to provide an interactive environment to develop applications and analyze data. It is available in either Scala or Python shells. Scala runs on the Java VM and is thus a good way to use existing Java libraries. In this lab exercise, we will set up our environment in preparation for the later labs.\n",
        "\n",
        "After completing this set of hands-on labs, you should be able to:\n",
        "\n",
        "1. Perform basic RDD actions and transformations\n",
        "2. Use caching to speed up repeated operations\n",
        "\n",
        "\n",
        "### Using this notebook\n",
        "\n",
        "This is an interactive environment where you can show your code through cells, and documentation through markdown.\n",
        "\n",
        "Look at the top right corner. Do you see \"Python 3\"? This indicates that you are running Python in this notebook.\n",
        "\n",
        "**To run a cell:** Shift + Enter\n",
        "\n",
        "### Try creating a new cell below.\n",
        "\n",
        "**To create a new cell:** In the menu, go to _\"Insert\" > \"Insert Cell Below\"_. Or, click outside of a cell, and press \"a\" (insert cell above) or \"b\" (insert cell below)."
      ]
    },
    {
      "metadata": {
        "id": "vjwP3H8J2lvR",
        "colab_type": "text"
      },
      "cell_type": "markdown",
      "source": [
        "# Lab Setup\n",
        "\n",
        "Run the following cells to get the lab data."
      ]
    },
    {
      "metadata": {
        "id": "yKcjgt__3Jl8",
        "colab_type": "code",
        "colab": {}
      },
      "cell_type": "code",
      "source": [
        "!apt-get install openjdk-8-jdk-headless -qq > /dev/null\n",
        "!wget -q http://apache.osuosl.org/spark/spark-2.2.1/spark-2.2.1-bin-hadoop2.7.tgz\n",
        "!tar xf spark-2.2.1-bin-hadoop2.7.tgz\n",
        "!pip install -q findspark"
      ],
      "execution_count": 0,
      "outputs": []
    },
    {
      "metadata": {
        "id": "LIItOr7s2lvS",
        "colab_type": "code",
        "colab": {
          "base_uri": "https://localhost:8080/",
          "height": 35
        },
        "outputId": "95f42b09-8cea-4eca-830d-17bbb03eda3e"
      },
      "cell_type": "code",
      "source": [
        "# download the data from the IBM server\n",
        "# this may take ~30 seconds depending on your internet speed\n",
        "!wget --quiet https://ibm.box.com/shared/static/j8skrriqeqw66f51iyz911zyqai64j2g.zip\n",
        "print(\"Data Downloaded!\")"
      ],
      "execution_count": 3,
      "outputs": [
        {
          "output_type": "stream",
          "text": [
            "Data Downloaded!\n"
          ],
          "name": "stdout"
        }
      ]
    },
    {
      "metadata": {
        "id": "JeCJ9OtE3XhM",
        "colab_type": "code",
        "colab": {
          "base_uri": "https://localhost:8080/",
          "height": 140
        },
        "outputId": "ce987f26-df65-42e4-c528-e4f1ff5a0d22"
      },
      "cell_type": "code",
      "source": [
        "!ls -l"
      ],
      "execution_count": 4,
      "outputs": [
        {
          "output_type": "stream",
          "text": [
            "total 726596\r\n",
            "drwxr-xr-x  1 root root      4096 May 21 17:02 datalab\r\n",
            "-rw-r--r--  1 root root 342130822 Jun 18 21:46 j8skrriqeqw66f51iyz911zyqai64j2g.zip\r\n",
            "drwxrwxr-x 12 1001 1001      4096 Nov 24  2017 spark-2.2.1-bin-hadoop2.7\r\n",
            "-rw-r--r--  1 root root 200934340 Nov 25  2017 spark-2.2.1-bin-hadoop2.7.tgz\r\n",
            "-rw-r--r--  1 root root 200934340 Nov 25  2017 spark-2.2.1-bin-hadoop2.7.tgz.1\r\n",
            "drwxr-xr-x  2 root root      4096 Jun 18 21:40 spark-warehouse\r\n"
          ],
          "name": "stdout"
        }
      ]
    },
    {
      "metadata": {
        "id": "wHIfDSES2lvV",
        "colab_type": "text"
      },
      "cell_type": "markdown",
      "source": [
        "Let's unzip the data that we just downloaded into a directory dedicated for this course."
      ]
    },
    {
      "metadata": {
        "id": "_itd-kGu2lvW",
        "colab_type": "code",
        "colab": {
          "base_uri": "https://localhost:8080/",
          "height": 35
        },
        "outputId": "ecda76a9-69ce-429f-f2cf-15289a64b399"
      },
      "cell_type": "code",
      "source": [
        "# this may take ~30 seconds depending on your internet speed\n",
        "!unzip -q -o j8skrriqeqw66f51iyz911zyqai64j2g.zip\n",
        "print(\"Data Extracted!\")"
      ],
      "execution_count": 5,
      "outputs": [
        {
          "output_type": "stream",
          "text": [
            "Data Extracted!\n"
          ],
          "name": "stdout"
        }
      ]
    },
    {
      "metadata": {
        "id": "RFaAdtus2lvY",
        "colab_type": "text"
      },
      "cell_type": "markdown",
      "source": [
        "The data is in a folder called **LabData**. Let's list all the files in the data that we just downloaded and extracted."
      ]
    },
    {
      "metadata": {
        "id": "EN-BO8B02lva",
        "colab_type": "code",
        "colab": {
          "base_uri": "https://localhost:8080/",
          "height": 193
        },
        "outputId": "174e0624-7881-4dec-88db-a0348ca459d2"
      },
      "cell_type": "code",
      "source": [
        "# list the extracted files\n",
        "!ls -1 LabData"
      ],
      "execution_count": 6,
      "outputs": [
        {
          "output_type": "stream",
          "text": [
            "followers.txt\r\n",
            "notebook.log\r\n",
            "nyctaxi100.csv\r\n",
            "nyctaxi.csv\r\n",
            "nyctaxisub.csv\r\n",
            "nycweather.csv\r\n",
            "pom.xml\r\n",
            "README.md\r\n",
            "taxistreams.py\r\n",
            "users.txt\r\n"
          ],
          "name": "stdout"
        }
      ]
    },
    {
      "metadata": {
        "id": "Boxgaz492lvc",
        "colab_type": "text"
      },
      "cell_type": "markdown",
      "source": [
        "Should have:\n",
        "    \n",
        "* followers.txt\n",
        "* notebook.log\n",
        "* nyctaxi100.csv\n",
        "* nyctaxi.csv\n",
        "* nyctaxisub.csv\n",
        "* nycweather.csv\n",
        "* pom.xml\n",
        "* README.md\n",
        "* taxistreams.py\n",
        "* users.txt"
      ]
    },
    {
      "metadata": {
        "id": "ltn4BBQR2lvc",
        "colab_type": "text"
      },
      "cell_type": "markdown",
      "source": [
        "### Starting with Spark\n",
        "\n",
        "The notebooks provide code assist. For example, type in \"sc.\" followed by the Tab key to get the list of options associated with the spark context:"
      ]
    },
    {
      "metadata": {
        "id": "cAh4BYVV7dKM",
        "colab_type": "code",
        "colab": {}
      },
      "cell_type": "code",
      "source": [
        "!apt-get install openjdk-8-jdk-headless -qq > /dev/null\n",
        "!wget -q http://apache.osuosl.org/spark/spark-2.2.1/spark-2.2.1-bin-hadoop2.7.tgz\n",
        "!tar xf spark-2.2.1-bin-hadoop2.7.tgz\n",
        "!pip install -q findspark"
      ],
      "execution_count": 0,
      "outputs": []
    },
    {
      "metadata": {
        "id": "d1HHFFb53w0c",
        "colab_type": "code",
        "colab": {}
      },
      "cell_type": "code",
      "source": [
        "import os\n",
        "os.environ[\"JAVA_HOME\"] = \"/usr/lib/jvm/java-8-openjdk-amd64\"\n",
        "os.environ[\"SPARK_HOME\"] = \"/content/spark-2.2.1-bin-hadoop2.7\""
      ],
      "execution_count": 0,
      "outputs": []
    },
    {
      "metadata": {
        "id": "zNNwpG5I3yQr",
        "colab_type": "code",
        "colab": {}
      },
      "cell_type": "code",
      "source": [
        "import findspark\n",
        "findspark.init()\n",
        "from pyspark.sql import SparkSession\n",
        "spark = SparkSession.builder.master(\"local[*]\").getOrCreate()"
      ],
      "execution_count": 0,
      "outputs": []
    },
    {
      "metadata": {
        "id": "LmctlBu-2lvf",
        "colab_type": "text"
      },
      "cell_type": "markdown",
      "source": [
        "To run a command as code, simple select the cell you want to run and either:\n",
        "\n",
        "* Click the play button in the toolbar above\n",
        "* Press \"_Shift+Enter_\"\n",
        "\n",
        "Let's run a basic command and check the version of Spark running:"
      ]
    },
    {
      "metadata": {
        "id": "2vLp7K4p4k4k",
        "colab_type": "code",
        "colab": {}
      },
      "cell_type": "code",
      "source": [
        "from pyspark.context import SparkContext\n",
        "sc = SparkContext.getOrCreate()"
      ],
      "execution_count": 0,
      "outputs": []
    },
    {
      "metadata": {
        "id": "OxlQLedW6KVM",
        "colab_type": "code",
        "colab": {
          "base_uri": "https://localhost:8080/",
          "height": 35
        },
        "outputId": "9da80ec1-9d8e-4edf-f33a-226ca0657239"
      },
      "cell_type": "code",
      "source": [
        "sc.version"
      ],
      "execution_count": 25,
      "outputs": [
        {
          "output_type": "execute_result",
          "data": {
            "text/plain": [
              "'2.2.1'"
            ]
          },
          "metadata": {
            "tags": []
          },
          "execution_count": 25
        }
      ]
    },
    {
      "metadata": {
        "id": "aheaCvxZ2lvg",
        "colab_type": "code",
        "colab": {
          "base_uri": "https://localhost:8080/",
          "height": 35
        },
        "outputId": "ec30fac7-18e9-4a0f-a7e2-e84cbc83fc75"
      },
      "cell_type": "code",
      "source": [
        "spark.version"
      ],
      "execution_count": 10,
      "outputs": [
        {
          "output_type": "execute_result",
          "data": {
            "text/plain": [
              "'2.2.1'"
            ]
          },
          "metadata": {
            "tags": []
          },
          "execution_count": 10
        }
      ]
    },
    {
      "metadata": {
        "id": "yI3JiAeZ2lvj",
        "colab_type": "text"
      },
      "cell_type": "markdown",
      "source": [
        "Add in the path to the *README.md* file in **LabData**."
      ]
    },
    {
      "metadata": {
        "id": "OV9IOWkB2lvj",
        "colab_type": "code",
        "colab": {}
      },
      "cell_type": "code",
      "source": [
        "readme = sc.textFile(\"LabData/README.md\")"
      ],
      "execution_count": 0,
      "outputs": []
    },
    {
      "metadata": {
        "id": "RAaDx5wR2lvm",
        "colab_type": "text"
      },
      "cell_type": "markdown",
      "source": [
        "Let’s perform some RDD actions on this text file. Count the number of items in the RDD using this command:"
      ]
    },
    {
      "metadata": {
        "id": "gLnICUjF2lvo",
        "colab_type": "code",
        "colab": {
          "base_uri": "https://localhost:8080/",
          "height": 35
        },
        "outputId": "7b1738ea-aebe-47fe-ca24-d2b7d5011da2"
      },
      "cell_type": "code",
      "source": [
        "readme.count()"
      ],
      "execution_count": 28,
      "outputs": [
        {
          "output_type": "execute_result",
          "data": {
            "text/plain": [
              "98"
            ]
          },
          "metadata": {
            "tags": []
          },
          "execution_count": 28
        }
      ]
    },
    {
      "metadata": {
        "id": "JbWLG7I-2lvq",
        "colab_type": "text"
      },
      "cell_type": "markdown",
      "source": [
        "You should see that this RDD action returned a value of 103.\n",
        "\n",
        "Let’s run another action. Run this command to find the first item in the RDD:"
      ]
    },
    {
      "metadata": {
        "id": "XA137YMu2lvr",
        "colab_type": "code",
        "colab": {
          "base_uri": "https://localhost:8080/",
          "height": 35
        },
        "outputId": "17213370-0768-4ec6-e8d9-a70f7f07309d"
      },
      "cell_type": "code",
      "source": [
        "readme.first()"
      ],
      "execution_count": 29,
      "outputs": [
        {
          "output_type": "execute_result",
          "data": {
            "text/plain": [
              "'# Apache Spark'"
            ]
          },
          "metadata": {
            "tags": []
          },
          "execution_count": 29
        }
      ]
    },
    {
      "metadata": {
        "id": "gc59MMsu2lvt",
        "colab_type": "text"
      },
      "cell_type": "markdown",
      "source": [
        "Now let’s try a transformation. Use the filter transformation to return a new RDD with a subset of the items in the file. Type in this command:"
      ]
    },
    {
      "metadata": {
        "id": "qo6V7Wya2lvu",
        "colab_type": "code",
        "colab": {}
      },
      "cell_type": "code",
      "source": [
        "linesWithSpark = readme.filter(lambda line: \"Spark\" in line)"
      ],
      "execution_count": 0,
      "outputs": []
    },
    {
      "metadata": {
        "id": "yt-V3byO2lvx",
        "colab_type": "text"
      },
      "cell_type": "markdown",
      "source": [
        "You can even chain together transformations and actions. To find out how many lines contains the word “Spark”, type in:"
      ]
    },
    {
      "metadata": {
        "id": "C9s1-YRO2lvy",
        "colab_type": "code",
        "colab": {
          "base_uri": "https://localhost:8080/",
          "height": 35
        },
        "outputId": "5ceab281-246f-4312-fb77-62f09a4bec58"
      },
      "cell_type": "code",
      "source": [
        "linesWithSpark = readme.filter(lambda line: \"Spark\" in line)\n",
        "readme.filter(lambda line: \"Spark\" in line).count()"
      ],
      "execution_count": 31,
      "outputs": [
        {
          "output_type": "execute_result",
          "data": {
            "text/plain": [
              "18"
            ]
          },
          "metadata": {
            "tags": []
          },
          "execution_count": 31
        }
      ]
    },
    {
      "metadata": {
        "id": "NgthCSUw2lv0",
        "colab_type": "text"
      },
      "cell_type": "markdown",
      "source": [
        "# More on RDD Operations\n",
        "\n",
        "This section builds upon the previous section. In this section, you will see that RDD can be used for more complex computations. You will find the line from that \"README.md\" file with the most words in it.\n",
        "\n",
        "Run the following cell."
      ]
    },
    {
      "metadata": {
        "id": "CwLGfir52lv0",
        "colab_type": "code",
        "colab": {
          "base_uri": "https://localhost:8080/",
          "height": 35
        },
        "outputId": "06a26638-9bc7-497c-b075-1cf726654199"
      },
      "cell_type": "code",
      "source": [
        "readme.map(lambda line: len(line.split())).reduce(lambda a, b: a if (a > b) else b)"
      ],
      "execution_count": 32,
      "outputs": [
        {
          "output_type": "execute_result",
          "data": {
            "text/plain": [
              "14"
            ]
          },
          "metadata": {
            "tags": []
          },
          "execution_count": 32
        }
      ]
    },
    {
      "metadata": {
        "id": "9pQeDrLH2lv6",
        "colab_type": "text"
      },
      "cell_type": "markdown",
      "source": [
        "There are two parts to this. The first maps a line to an integer value, the number of words in that line. In the second part reduce is called to find the line with the most words in it. The arguments to map and reduce are Python anonymous functions (lambdas), but you can use any top level Python functions. In the next step, you’ll define a max function to illustrate this feature.\n",
        "\n",
        "Define the max function. You will need to type this in:"
      ]
    },
    {
      "metadata": {
        "id": "l3jUVm6b2lv7",
        "colab_type": "code",
        "colab": {}
      },
      "cell_type": "code",
      "source": [
        "def max(a, b):\n",
        " if a > b:\n",
        "    return a\n",
        " else:\n",
        "    return b"
      ],
      "execution_count": 0,
      "outputs": []
    },
    {
      "metadata": {
        "id": "th4xwnIN2lv-",
        "colab_type": "text"
      },
      "cell_type": "markdown",
      "source": [
        "Now run the following with the max function:"
      ]
    },
    {
      "metadata": {
        "id": "YfngyY0v2lv-",
        "colab_type": "code",
        "colab": {
          "base_uri": "https://localhost:8080/",
          "height": 35
        },
        "outputId": "97e8b491-297d-4ba3-b651-6d7f2a24a101"
      },
      "cell_type": "code",
      "source": [
        "readme.map(lambda line: len(line.split())).reduce(max)"
      ],
      "execution_count": 34,
      "outputs": [
        {
          "output_type": "execute_result",
          "data": {
            "text/plain": [
              "14"
            ]
          },
          "metadata": {
            "tags": []
          },
          "execution_count": 34
        }
      ]
    },
    {
      "metadata": {
        "id": "ckYo9UO62lwB",
        "colab_type": "text"
      },
      "cell_type": "markdown",
      "source": [
        "Spark has a MapReduce data flow pattern. We can use this to do a word count on the readme file."
      ]
    },
    {
      "metadata": {
        "id": "1WddGRYE2lwC",
        "colab_type": "code",
        "colab": {}
      },
      "cell_type": "code",
      "source": [
        "wordCounts = readme.flatMap(lambda line: line.split()).map(lambda word: (word, 1)).reduceByKey(lambda a, b: a+b)"
      ],
      "execution_count": 0,
      "outputs": []
    },
    {
      "metadata": {
        "id": "jIlY1kD42lwE",
        "colab_type": "text"
      },
      "cell_type": "markdown",
      "source": [
        "Here we combined the flatMap, map, and the reduceByKey functions to do a word count of each word in the readme file.\n",
        "\n",
        "To collect the word counts, use the _collect_ action.\n",
        "\n",
        "#### It should be noted that the collect function brings all of the data into the driver node. For a small dataset, this is acceptable but, for a large dataset this can cause an Out Of Memory error. It is recommended to use collect() for testing only. The safer approach is to use the take() function e.g. print take(n)"
      ]
    },
    {
      "metadata": {
        "id": "uTjBDSBC2lwG",
        "colab_type": "code",
        "colab": {
          "base_uri": "https://localhost:8080/",
          "height": 4751
        },
        "outputId": "68f318de-ef65-43ec-f485-472ea0b097f2"
      },
      "cell_type": "code",
      "source": [
        "wordCounts.collect()"
      ],
      "execution_count": 36,
      "outputs": [
        {
          "output_type": "execute_result",
          "data": {
            "text/plain": [
              "[('#', 1),\n",
              " ('Apache', 1),\n",
              " ('Spark', 14),\n",
              " ('is', 6),\n",
              " ('It', 2),\n",
              " ('provides', 1),\n",
              " ('high-level', 1),\n",
              " ('APIs', 1),\n",
              " ('in', 5),\n",
              " ('Scala,', 1),\n",
              " ('Java,', 1),\n",
              " ('an', 3),\n",
              " ('optimized', 1),\n",
              " ('engine', 1),\n",
              " ('supports', 2),\n",
              " ('computation', 1),\n",
              " ('analysis.', 1),\n",
              " ('set', 2),\n",
              " ('of', 5),\n",
              " ('tools', 1),\n",
              " ('SQL', 2),\n",
              " ('MLlib', 1),\n",
              " ('machine', 1),\n",
              " ('learning,', 1),\n",
              " ('GraphX', 1),\n",
              " ('graph', 1),\n",
              " ('processing,', 1),\n",
              " ('Documentation', 1),\n",
              " ('latest', 1),\n",
              " ('programming', 1),\n",
              " ('guide,', 1),\n",
              " ('[project', 2),\n",
              " ('README', 1),\n",
              " ('only', 1),\n",
              " ('basic', 1),\n",
              " ('instructions.', 1),\n",
              " ('Building', 1),\n",
              " ('using', 2),\n",
              " ('[Apache', 1),\n",
              " ('run:', 1),\n",
              " ('do', 2),\n",
              " ('this', 1),\n",
              " ('downloaded', 1),\n",
              " ('documentation', 3),\n",
              " ('project', 1),\n",
              " ('site,', 1),\n",
              " ('at', 2),\n",
              " ('Spark\"](http://spark.apache.org/docs/latest/building-spark.html).', 1),\n",
              " ('Interactive', 2),\n",
              " ('Shell', 2),\n",
              " ('The', 1),\n",
              " ('way', 1),\n",
              " ('start', 1),\n",
              " ('Try', 1),\n",
              " ('following', 2),\n",
              " ('1000:', 2),\n",
              " ('scala>', 1),\n",
              " ('1000).count()', 1),\n",
              " ('Python', 2),\n",
              " ('Alternatively,', 1),\n",
              " ('use', 3),\n",
              " ('And', 1),\n",
              " ('run', 7),\n",
              " ('Example', 1),\n",
              " ('several', 1),\n",
              " ('programs', 2),\n",
              " ('them,', 1),\n",
              " ('`./bin/run-example', 1),\n",
              " ('[params]`.', 1),\n",
              " ('example:', 1),\n",
              " ('./bin/run-example', 2),\n",
              " ('SparkPi', 2),\n",
              " ('variable', 1),\n",
              " ('when', 1),\n",
              " ('examples', 2),\n",
              " ('spark://', 1),\n",
              " ('URL,', 1),\n",
              " ('YARN,', 1),\n",
              " ('\"local\"', 1),\n",
              " ('locally', 2),\n",
              " ('N', 1),\n",
              " ('abbreviated', 1),\n",
              " ('class', 2),\n",
              " ('name', 1),\n",
              " ('package.', 1),\n",
              " ('instance:', 1),\n",
              " ('print', 1),\n",
              " ('usage', 1),\n",
              " ('help', 1),\n",
              " ('no', 1),\n",
              " ('params', 1),\n",
              " ('are', 1),\n",
              " ('Testing', 1),\n",
              " ('Spark](#building-spark).', 1),\n",
              " ('Once', 1),\n",
              " ('built,', 1),\n",
              " ('tests', 2),\n",
              " ('using:', 1),\n",
              " ('./dev/run-tests', 1),\n",
              " ('Please', 3),\n",
              " ('guidance', 3),\n",
              " ('module,', 1),\n",
              " ('individual', 1),\n",
              " ('Note', 1),\n",
              " ('About', 1),\n",
              " ('uses', 1),\n",
              " ('library', 1),\n",
              " ('HDFS', 1),\n",
              " ('other', 1),\n",
              " ('Hadoop-supported', 1),\n",
              " ('storage', 1),\n",
              " ('systems.', 1),\n",
              " ('Because', 1),\n",
              " ('have', 1),\n",
              " ('changed', 1),\n",
              " ('different', 1),\n",
              " ('versions', 1),\n",
              " ('Hadoop,', 2),\n",
              " ('must', 1),\n",
              " ('against', 1),\n",
              " ('version', 1),\n",
              " ('refer', 2),\n",
              " ('particular', 3),\n",
              " ('distribution', 1),\n",
              " ('Hive', 2),\n",
              " ('Thriftserver', 1),\n",
              " ('distributions.', 1),\n",
              " ('[\"Third', 1),\n",
              " ('distribution.', 1),\n",
              " ('[Configuration', 1),\n",
              " ('Guide](http://spark.apache.org/docs/latest/configuration.html)', 1),\n",
              " ('online', 1),\n",
              " ('overview', 1),\n",
              " ('configure', 1),\n",
              " ('Spark.', 1),\n",
              " ('a', 10),\n",
              " ('fast', 1),\n",
              " ('and', 10),\n",
              " ('general', 2),\n",
              " ('cluster', 2),\n",
              " ('computing', 1),\n",
              " ('system', 1),\n",
              " ('for', 12),\n",
              " ('Big', 1),\n",
              " ('Data.', 1),\n",
              " ('Python,', 2),\n",
              " ('R,', 1),\n",
              " ('that', 3),\n",
              " ('graphs', 1),\n",
              " ('data', 1),\n",
              " ('also', 5),\n",
              " ('rich', 1),\n",
              " ('higher-level', 1),\n",
              " ('including', 3),\n",
              " ('DataFrames,', 1),\n",
              " ('Streaming', 1),\n",
              " ('stream', 1),\n",
              " ('processing.', 1),\n",
              " ('<http://spark.apache.org/>', 1),\n",
              " ('##', 8),\n",
              " ('Online', 1),\n",
              " ('You', 3),\n",
              " ('can', 6),\n",
              " ('find', 1),\n",
              " ('the', 21),\n",
              " ('documentation,', 1),\n",
              " ('on', 6),\n",
              " ('web', 1),\n",
              " ('page](http://spark.apache.org/documentation.html)', 1),\n",
              " ('wiki](https://cwiki.apache.org/confluence/display/SPARK).', 1),\n",
              " ('This', 2),\n",
              " ('file', 1),\n",
              " ('contains', 1),\n",
              " ('setup', 1),\n",
              " ('built', 1),\n",
              " ('Maven](http://maven.apache.org/).', 1),\n",
              " ('To', 2),\n",
              " ('build', 3),\n",
              " ('its', 1),\n",
              " ('example', 3),\n",
              " ('programs,', 1),\n",
              " ('build/mvn', 1),\n",
              " ('-DskipTests', 1),\n",
              " ('clean', 1),\n",
              " ('package', 1),\n",
              " ('(You', 1),\n",
              " ('not', 1),\n",
              " ('need', 1),\n",
              " ('to', 14),\n",
              " ('if', 4),\n",
              " ('you', 4),\n",
              " ('pre-built', 1),\n",
              " ('package.)', 1),\n",
              " ('More', 1),\n",
              " ('detailed', 2),\n",
              " ('available', 1),\n",
              " ('from', 1),\n",
              " ('[\"Building', 1),\n",
              " ('Scala', 2),\n",
              " ('easiest', 1),\n",
              " ('through', 1),\n",
              " ('shell:', 2),\n",
              " ('./bin/spark-shell', 1),\n",
              " ('command,', 2),\n",
              " ('which', 2),\n",
              " ('should', 2),\n",
              " ('return', 2),\n",
              " ('sc.parallelize(1', 1),\n",
              " ('prefer', 1),\n",
              " ('./bin/pyspark', 1),\n",
              " ('>>>', 1),\n",
              " ('sc.parallelize(range(1000)).count()', 1),\n",
              " ('Programs', 1),\n",
              " ('comes', 1),\n",
              " ('with', 4),\n",
              " ('sample', 1),\n",
              " ('`examples`', 2),\n",
              " ('directory.', 1),\n",
              " ('one', 2),\n",
              " ('<class>', 1),\n",
              " ('For', 2),\n",
              " ('will', 1),\n",
              " ('Pi', 1),\n",
              " ('locally.', 1),\n",
              " ('MASTER', 1),\n",
              " ('environment', 1),\n",
              " ('running', 1),\n",
              " ('submit', 1),\n",
              " ('cluster.', 1),\n",
              " ('be', 2),\n",
              " ('mesos://', 1),\n",
              " ('or', 3),\n",
              " ('\"yarn\"', 1),\n",
              " ('thread,', 1),\n",
              " ('\"local[N]\"', 1),\n",
              " ('threads.', 1),\n",
              " ('MASTER=spark://host:7077', 1),\n",
              " ('Many', 1),\n",
              " ('given.', 1),\n",
              " ('Running', 1),\n",
              " ('Tests', 1),\n",
              " ('first', 1),\n",
              " ('requires', 1),\n",
              " ('[building', 1),\n",
              " ('see', 1),\n",
              " ('how', 2),\n",
              " ('[run', 1),\n",
              " ('tests](https://cwiki.apache.org/confluence/display/SPARK/Useful+Developer+Tools).',\n",
              "  1),\n",
              " ('A', 1),\n",
              " ('Hadoop', 4),\n",
              " ('Versions', 1),\n",
              " ('core', 1),\n",
              " ('talk', 1),\n",
              " ('protocols', 1),\n",
              " ('same', 1),\n",
              " ('your', 1),\n",
              " ('runs.', 1),\n",
              " ('[\"Specifying', 1),\n",
              " ('Version\"](http://spark.apache.org/docs/latest/building-spark.html#specifying-the-hadoop-version)',\n",
              "  1),\n",
              " ('building', 3),\n",
              " ('See', 1),\n",
              " ('Party', 1),\n",
              " ('Distributions\"](http://spark.apache.org/docs/latest/hadoop-third-party-distributions.html)',\n",
              "  1),\n",
              " ('application', 1),\n",
              " ('works', 1),\n",
              " ('Configuration', 1)]"
            ]
          },
          "metadata": {
            "tags": []
          },
          "execution_count": 36
        }
      ]
    },
    {
      "metadata": {
        "id": "r5V3wTnd2lwI",
        "colab_type": "text"
      },
      "cell_type": "markdown",
      "source": [
        "### <span style=\"color: red\">YOUR TURN:</span> \n",
        "\n",
        "#### In the cell below, determine what is the most frequent word in the README, and how many times was it used?"
      ]
    },
    {
      "metadata": {
        "id": "16pgD2PI2lwJ",
        "colab_type": "code",
        "colab": {}
      },
      "cell_type": "code",
      "source": [
        "# WRITE YOUR CODE BELOW\n"
      ],
      "execution_count": 0,
      "outputs": []
    },
    {
      "metadata": {
        "id": "P-zMRYGf2lwO",
        "colab_type": "text"
      },
      "cell_type": "markdown",
      "source": [
        "Highlight text field for answer:\n",
        "\n",
        "<input type=\"text\" size=\"80\" value=\"wordCounts.reduce(lambda a, b: a if (a[1] > b[1]) else b)\" style=\"color: white\">"
      ]
    },
    {
      "metadata": {
        "id": "sm5PPEO02lwO",
        "colab_type": "text"
      },
      "cell_type": "markdown",
      "source": [
        "## Using Spark caching\n",
        "\n",
        "In this short section, you’ll see how Spark caching can be used to pull data sets into a cluster-wide in-memory cache. This is very useful for accessing repeated data, such as querying a small “hot” dataset or when running an iterative algorithm. Both Python and Scala use the same commands.\n",
        "\n",
        "As a simple example, let’s mark our linesWithSpark dataset to be cached and then invoke the first count operation to tell Spark to cache it. Remember that transformation operations such as cache does not get processed until some action like count() is called. Once you run the second count() operation, you should notice a small increase in speed.\n"
      ]
    },
    {
      "metadata": {
        "id": "tZSV7X-L2lwP",
        "colab_type": "code",
        "colab": {}
      },
      "cell_type": "code",
      "source": [
        "print(linesWithSpark.count())"
      ],
      "execution_count": 0,
      "outputs": []
    },
    {
      "metadata": {
        "id": "VwqQoB6T2lwQ",
        "colab_type": "code",
        "colab": {}
      },
      "cell_type": "code",
      "source": [
        "from timeit import Timer\n",
        "def count():\n",
        "    return linesWithSpark.count()\n",
        "t = Timer(lambda: count())"
      ],
      "execution_count": 0,
      "outputs": []
    },
    {
      "metadata": {
        "id": "rfHMdIKt2lwS",
        "colab_type": "code",
        "colab": {}
      },
      "cell_type": "code",
      "source": [
        "print(t.timeit(number=50))"
      ],
      "execution_count": 0,
      "outputs": []
    },
    {
      "metadata": {
        "id": "26r6xCCf2lwU",
        "colab_type": "code",
        "colab": {}
      },
      "cell_type": "code",
      "source": [
        "linesWithSpark.cache()\n",
        "print(t.timeit(number=50))"
      ],
      "execution_count": 0,
      "outputs": []
    },
    {
      "metadata": {
        "id": "A6g30TNv2lwX",
        "colab_type": "text"
      },
      "cell_type": "markdown",
      "source": [
        "It may seem silly to cache such a small file, but for larger data sets across tens or hundreds of nodes, this would still work. The second linesWithSpark.count() action runs against the cache and would perform significantly better for large datasets."
      ]
    },
    {
      "metadata": {
        "id": "WEFrYS822lwX",
        "colab_type": "text"
      },
      "cell_type": "markdown",
      "source": [
        "<div class=\"alert alert-success alertsuccess\" style=\"margin-top: 20px\">\n",
        "**Tip**: Enjoyed using Jupyter notebooks with Spark? Get yourself a free \n",
        "    <a href=\"http://cocl.us/DSX_on_Cloud\">IBM Cloud</a> account where you can use Data Science Experience notebooks\n",
        "    and have *two* Spark executors for free!\n",
        "</div>"
      ]
    },
    {
      "metadata": {
        "id": "cDh33wzo2lwY",
        "colab_type": "text"
      },
      "cell_type": "markdown",
      "source": [
        "### Summary\n",
        "Having completed this exercise, you should now be able to log in to your environment and use the Spark shell to run simple actions and transformations for Scala and/or Python. You understand that Spark caching can be used to cache large datasets and subsequent operations on it will utilize the data in the cache rather than re-fetching it from HDFS."
      ]
    }
  ]
}