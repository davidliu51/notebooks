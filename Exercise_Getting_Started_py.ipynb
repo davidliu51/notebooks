{
  "nbformat": 4,
  "nbformat_minor": 0,
  "metadata": {
    "colab": {
      "name": "Exercise-Getting-Started-py.ipynb",
      "version": "0.3.2",
      "provenance": [],
      "collapsed_sections": []
    },
    "kernelspec": {
      "display_name": "Python 3",
      "language": "python",
      "name": "python3"
    }
  },
  "cells": [
    {
      "cell_type": "markdown",
      "metadata": {
        "id": "view-in-github",
        "colab_type": "text"
      },
      "source": [
        "[View in Colaboratory](https://colab.research.google.com/github/davidliu51/notebooks/blob/master/Exercise_Getting_Started_py.ipynb)"
      ]
    },
    {
      "metadata": {
        "id": "ka5AKXphn7uY",
        "colab_type": "text"
      },
      "cell_type": "markdown",
      "source": [
        " ## Spark is built around speed and the ease of use. In these labs you will see for yourself how easy it is to get started using Spark. \n",
        "\n",
        "Spark’s primary abstraction is a distributed collection of items called a Resilient Distributed Dataset or RDD. In a subsequent lab exercise, you will learn more about the details of RDD. RDDs have actions, which return values, and transformations, which return pointers to new RDD.\n",
        "\n",
        "This set of labs uses Cognitive Class Labs (formerly known as BDU Labs) to provide an interactive environment to develop applications and analyze data. It is available in either Scala or Python shells. Scala runs on the Java VM and is thus a good way to use existing Java libraries. In this lab exercise, we will set up our environment in preparation for the later labs.\n",
        "\n",
        "After completing this set of hands-on labs, you should be able to:\n",
        "\n",
        "1. Perform basic RDD actions and transformations\n",
        "2. Use caching to speed up repeated operations\n",
        "\n",
        "\n",
        "### Using this notebook\n",
        "\n",
        "This is an interactive environment where you can show your code through cells, and documentation through markdown.\n",
        "\n",
        "Look at the top right corner. Do you see \"Python 3\"? This indicates that you are running Python in this notebook.\n",
        "\n",
        "**To run a cell:** Shift + Enter\n",
        "\n",
        "### Try creating a new cell below.\n",
        "\n",
        "**To create a new cell:** In the menu, go to _\"Insert\" > \"Insert Cell Below\"_. Or, click outside of a cell, and press \"a\" (insert cell above) or \"b\" (insert cell below)."
      ]
    },
    {
      "metadata": {
        "id": "BL1cZs5on7uY",
        "colab_type": "text"
      },
      "cell_type": "markdown",
      "source": [
        "# Lab Setup\n",
        "\n",
        "Run the following cells to get the lab data."
      ]
    },
    {
      "metadata": {
        "id": "O-I3GnZwn7uZ",
        "colab_type": "code",
        "colab": {}
      },
      "cell_type": "code",
      "source": [
        "# download the data from the IBM server\n",
        "# this may take ~30 seconds depending on your internet speed\n",
        "!wget --quiet https://ibm.box.com/shared/static/j8skrriqeqw66f51iyz911zyqai64j2g.zip\n",
        "print(\"Data Downloaded!\")"
      ],
      "execution_count": 0,
      "outputs": []
    },
    {
      "metadata": {
        "id": "NVKmsPHVn7ud",
        "colab_type": "text"
      },
      "cell_type": "markdown",
      "source": [
        "Let's unzip the data that we just downloaded into a directory dedicated for this course. Let's choose the directory **/resources/jupyter/labs/BD0211EN/**."
      ]
    },
    {
      "metadata": {
        "id": "XCJFPEd0n7ue",
        "colab_type": "code",
        "colab": {}
      },
      "cell_type": "code",
      "source": [
        "# this may take ~30 seconds depending on your internet speed\n",
        "!unzip -q -o -d /resources/jupyter/labs/BD0211EN/ j8skrriqeqw66f51iyz911zyqai64j2g.zip\n",
        "print(\"Data Extracted!\")"
      ],
      "execution_count": 0,
      "outputs": []
    },
    {
      "metadata": {
        "id": "kLmqsx8Sn7ug",
        "colab_type": "text"
      },
      "cell_type": "markdown",
      "source": [
        "The data is in a folder called **LabData**. Let's list all the files in the data that we just downloaded and extracted."
      ]
    },
    {
      "metadata": {
        "id": "1lqBEKXXn7uh",
        "colab_type": "code",
        "colab": {}
      },
      "cell_type": "code",
      "source": [
        "# list the extracted files\n",
        "!ls -1 /resources/jupyter/labs/BD0211EN/LabData"
      ],
      "execution_count": 0,
      "outputs": []
    },
    {
      "metadata": {
        "id": "HmKI4wvKn7uj",
        "colab_type": "text"
      },
      "cell_type": "markdown",
      "source": [
        "Should have:\n",
        "    \n",
        "* followers.txt\n",
        "* notebook.log\n",
        "* nyctaxi100.csv\n",
        "* nyctaxi.csv\n",
        "* nyctaxisub.csv\n",
        "* nycweather.csv\n",
        "* pom.xml\n",
        "* README.md\n",
        "* taxistreams.py\n",
        "* users.txt"
      ]
    },
    {
      "metadata": {
        "id": "75Woz84Nn7uk",
        "colab_type": "text"
      },
      "cell_type": "markdown",
      "source": [
        "### Starting with Spark\n",
        "\n",
        "The notebooks provide code assist. For example, type in \"sc.\" followed by the Tab key to get the list of options associated with the spark context:"
      ]
    },
    {
      "metadata": {
        "id": "py1jEA0-n7ul",
        "colab_type": "code",
        "colab": {
          "base_uri": "https://localhost:8080/",
          "height": 132
        },
        "outputId": "bcff07a1-00e6-4ff6-bffe-42cb7a236974"
      },
      "cell_type": "code",
      "source": [
        "sc."
      ],
      "execution_count": 1,
      "outputs": [
        {
          "output_type": "error",
          "ename": "SyntaxError",
          "evalue": "ignored",
          "traceback": [
            "\u001b[0;36m  File \u001b[0;32m\"<ipython-input-1-09121b2d8533>\"\u001b[0;36m, line \u001b[0;32m1\u001b[0m\n\u001b[0;31m    sc.\u001b[0m\n\u001b[0m       ^\u001b[0m\n\u001b[0;31mSyntaxError\u001b[0m\u001b[0;31m:\u001b[0m invalid syntax\n"
          ]
        }
      ]
    },
    {
      "metadata": {
        "id": "hGi8atxln7un",
        "colab_type": "text"
      },
      "cell_type": "markdown",
      "source": [
        "To run a command as code, simple select the cell you want to run and either:\n",
        "\n",
        "* Click the play button in the toolbar above\n",
        "* Press \"_Shift+Enter_\"\n",
        "\n",
        "Let's run a basic command and check the version of Spark running:"
      ]
    },
    {
      "metadata": {
        "id": "_9rbZGJwn7uo",
        "colab_type": "code",
        "colab": {}
      },
      "cell_type": "code",
      "source": [
        "sc.version"
      ],
      "execution_count": 0,
      "outputs": []
    },
    {
      "metadata": {
        "id": "O6Jcm1vzn7uq",
        "colab_type": "text"
      },
      "cell_type": "markdown",
      "source": [
        "Add in the path to the *README.md* file in **LabData**."
      ]
    },
    {
      "metadata": {
        "id": "DmftOLzQn7ur",
        "colab_type": "code",
        "colab": {}
      },
      "cell_type": "code",
      "source": [
        "readme = sc.textFile(\"/resources/jupyter/labs/BD0211EN/LabData/README.md\")"
      ],
      "execution_count": 0,
      "outputs": []
    },
    {
      "metadata": {
        "id": "RIytaREQn7ut",
        "colab_type": "text"
      },
      "cell_type": "markdown",
      "source": [
        "Let’s perform some RDD actions on this text file. Count the number of items in the RDD using this command:"
      ]
    },
    {
      "metadata": {
        "id": "2OyCeWCfn7uu",
        "colab_type": "code",
        "colab": {}
      },
      "cell_type": "code",
      "source": [
        "readme.count()"
      ],
      "execution_count": 0,
      "outputs": []
    },
    {
      "metadata": {
        "id": "gCnDz2CGn7ux",
        "colab_type": "text"
      },
      "cell_type": "markdown",
      "source": [
        "You should see that this RDD action returned a value of 103.\n",
        "\n",
        "Let’s run another action. Run this command to find the first item in the RDD:"
      ]
    },
    {
      "metadata": {
        "id": "UOSNRfRZn7ux",
        "colab_type": "code",
        "colab": {}
      },
      "cell_type": "code",
      "source": [
        "readme.first()"
      ],
      "execution_count": 0,
      "outputs": []
    },
    {
      "metadata": {
        "id": "yqBf1Vhrn7u0",
        "colab_type": "text"
      },
      "cell_type": "markdown",
      "source": [
        "Now let’s try a transformation. Use the filter transformation to return a new RDD with a subset of the items in the file. Type in this command:"
      ]
    },
    {
      "metadata": {
        "id": "85qGLqFdn7u0",
        "colab_type": "code",
        "colab": {}
      },
      "cell_type": "code",
      "source": [
        "linesWithSpark = readme.filter(lambda line: \"Spark\" in line)"
      ],
      "execution_count": 0,
      "outputs": []
    },
    {
      "metadata": {
        "id": "VLU_3W6Ln7u3",
        "colab_type": "text"
      },
      "cell_type": "markdown",
      "source": [
        "You can even chain together transformations and actions. To find out how many lines contains the word “Spark”, type in:"
      ]
    },
    {
      "metadata": {
        "id": "-EYGA5t_n7u3",
        "colab_type": "code",
        "colab": {}
      },
      "cell_type": "code",
      "source": [
        "linesWithSpark = readme.filter(lambda line: \"Spark\" in line)\n",
        "readme.filter(lambda line: \"Spark\" in line).count()"
      ],
      "execution_count": 0,
      "outputs": []
    },
    {
      "metadata": {
        "id": "RgtKXsTPn7u6",
        "colab_type": "text"
      },
      "cell_type": "markdown",
      "source": [
        "# More on RDD Operations\n",
        "\n",
        "This section builds upon the previous section. In this section, you will see that RDD can be used for more complex computations. You will find the line from that \"README.md\" file with the most words in it.\n",
        "\n",
        "Run the following cell."
      ]
    },
    {
      "metadata": {
        "id": "nlS8KbmZn7u6",
        "colab_type": "code",
        "colab": {}
      },
      "cell_type": "code",
      "source": [
        "readme.map(lambda line: len(line.split())).reduce(lambda a, b: a if (a > b) else b)"
      ],
      "execution_count": 0,
      "outputs": []
    },
    {
      "metadata": {
        "id": "yONwYS5Jn7u-",
        "colab_type": "text"
      },
      "cell_type": "markdown",
      "source": [
        "There are two parts to this. The first maps a line to an integer value, the number of words in that line. In the second part reduce is called to find the line with the most words in it. The arguments to map and reduce are Python anonymous functions (lambdas), but you can use any top level Python functions. In the next step, you’ll define a max function to illustrate this feature.\n",
        "\n",
        "Define the max function. You will need to type this in:"
      ]
    },
    {
      "metadata": {
        "id": "0eG4TLIZn7u_",
        "colab_type": "code",
        "colab": {}
      },
      "cell_type": "code",
      "source": [
        "def max(a, b):\n",
        " if a > b:\n",
        "    return a\n",
        " else:\n",
        "    return b"
      ],
      "execution_count": 0,
      "outputs": []
    },
    {
      "metadata": {
        "id": "ccK9XYkan7vC",
        "colab_type": "text"
      },
      "cell_type": "markdown",
      "source": [
        "Now run the following with the max function:"
      ]
    },
    {
      "metadata": {
        "id": "AzgJGX02n7vC",
        "colab_type": "code",
        "colab": {}
      },
      "cell_type": "code",
      "source": [
        "readme.map(lambda line: len(line.split())).reduce(max)"
      ],
      "execution_count": 0,
      "outputs": []
    },
    {
      "metadata": {
        "id": "Yvdp0-PPn7vG",
        "colab_type": "text"
      },
      "cell_type": "markdown",
      "source": [
        "Spark has a MapReduce data flow pattern. We can use this to do a word count on the readme file."
      ]
    },
    {
      "metadata": {
        "id": "szD39TSzn7vG",
        "colab_type": "code",
        "colab": {}
      },
      "cell_type": "code",
      "source": [
        "wordCounts = readme.flatMap(lambda line: line.split()).map(lambda word: (word, 1)).reduceByKey(lambda a, b: a+b)"
      ],
      "execution_count": 0,
      "outputs": []
    },
    {
      "metadata": {
        "id": "Zc0gu99Rn7vJ",
        "colab_type": "text"
      },
      "cell_type": "markdown",
      "source": [
        "Here we combined the flatMap, map, and the reduceByKey functions to do a word count of each word in the readme file.\n",
        "\n",
        "To collect the word counts, use the _collect_ action.\n",
        "\n",
        "#### It should be noted that the collect function brings all of the data into the driver node. For a small dataset, this is acceptable but, for a large dataset this can cause an Out Of Memory error. It is recommended to use collect() for testing only. The safer approach is to use the take() function e.g. print take(n)"
      ]
    },
    {
      "metadata": {
        "id": "V1lvduCUn7vJ",
        "colab_type": "code",
        "colab": {}
      },
      "cell_type": "code",
      "source": [
        "wordCounts.collect()"
      ],
      "execution_count": 0,
      "outputs": []
    },
    {
      "metadata": {
        "id": "i6FvyXoLn7vM",
        "colab_type": "text"
      },
      "cell_type": "markdown",
      "source": [
        "### <span style=\"color: red\">YOUR TURN:</span> \n",
        "\n",
        "#### In the cell below, determine what is the most frequent word in the README, and how many times was it used?"
      ]
    },
    {
      "metadata": {
        "id": "oTzIltNyn7vN",
        "colab_type": "code",
        "colab": {}
      },
      "cell_type": "code",
      "source": [
        "# WRITE YOUR CODE BELOW\n"
      ],
      "execution_count": 0,
      "outputs": []
    },
    {
      "metadata": {
        "id": "y3-8PmH8n7vP",
        "colab_type": "text"
      },
      "cell_type": "markdown",
      "source": [
        "Highlight text field for answer:\n",
        "\n",
        "<input type=\"text\" size=\"80\" value=\"wordCounts.reduce(lambda a, b: a if (a[1] > b[1]) else b)\" style=\"color: white\">"
      ]
    },
    {
      "metadata": {
        "id": "TDvfkRNWn7vP",
        "colab_type": "text"
      },
      "cell_type": "markdown",
      "source": [
        "## Using Spark caching\n",
        "\n",
        "In this short section, you’ll see how Spark caching can be used to pull data sets into a cluster-wide in-memory cache. This is very useful for accessing repeated data, such as querying a small “hot” dataset or when running an iterative algorithm. Both Python and Scala use the same commands.\n",
        "\n",
        "As a simple example, let’s mark our linesWithSpark dataset to be cached and then invoke the first count operation to tell Spark to cache it. Remember that transformation operations such as cache does not get processed until some action like count() is called. Once you run the second count() operation, you should notice a small increase in speed.\n"
      ]
    },
    {
      "metadata": {
        "id": "HiYHotiGn7vQ",
        "colab_type": "code",
        "colab": {}
      },
      "cell_type": "code",
      "source": [
        "print(linesWithSpark.count())"
      ],
      "execution_count": 0,
      "outputs": []
    },
    {
      "metadata": {
        "id": "jBGMYSm1n7vS",
        "colab_type": "code",
        "colab": {}
      },
      "cell_type": "code",
      "source": [
        "from timeit import Timer\n",
        "def count():\n",
        "    return linesWithSpark.count()\n",
        "t = Timer(lambda: count())"
      ],
      "execution_count": 0,
      "outputs": []
    },
    {
      "metadata": {
        "id": "dBQ8-_Uxn7vU",
        "colab_type": "code",
        "colab": {}
      },
      "cell_type": "code",
      "source": [
        "print(t.timeit(number=50))"
      ],
      "execution_count": 0,
      "outputs": []
    },
    {
      "metadata": {
        "id": "dRfucCtbn7vW",
        "colab_type": "code",
        "colab": {}
      },
      "cell_type": "code",
      "source": [
        "linesWithSpark.cache()\n",
        "print(t.timeit(number=50))"
      ],
      "execution_count": 0,
      "outputs": []
    },
    {
      "metadata": {
        "id": "2tKDBVp3n7vZ",
        "colab_type": "text"
      },
      "cell_type": "markdown",
      "source": [
        "It may seem silly to cache such a small file, but for larger data sets across tens or hundreds of nodes, this would still work. The second linesWithSpark.count() action runs against the cache and would perform significantly better for large datasets."
      ]
    },
    {
      "metadata": {
        "id": "xUQwLwPfn7va",
        "colab_type": "text"
      },
      "cell_type": "markdown",
      "source": [
        "<div class=\"alert alert-success alertsuccess\" style=\"margin-top: 20px\">\n",
        "**Tip**: Enjoyed using Jupyter notebooks with Spark? Get yourself a free \n",
        "    <a href=\"http://cocl.us/DSX_on_Cloud\">IBM Cloud</a> account where you can use Data Science Experience notebooks\n",
        "    and have *two* Spark executors for free!\n",
        "</div>"
      ]
    },
    {
      "metadata": {
        "id": "XaVu7aTjn7va",
        "colab_type": "text"
      },
      "cell_type": "markdown",
      "source": [
        "### Summary\n",
        "Having completed this exercise, you should now be able to log in to your environment and use the Spark shell to run simple actions and transformations for Scala and/or Python. You understand that Spark caching can be used to cache large datasets and subsequent operations on it will utilize the data in the cache rather than re-fetching it from HDFS."
      ]
    }
  ]
}